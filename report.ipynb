{
 "cells": [
  {
   "cell_type": "markdown",
   "id": "9c7a927c",
   "metadata": {},
   "source": [
    "# Lab 8\n",
    "\n",
    "- Daniel Alfredo Rayo Roldan\n",
    "- Flavio Galan\n",
    "- Maria Fernanda\n",
    "- Irving Fabricio"
   ]
  },
  {
   "cell_type": "code",
   "execution_count": 26,
   "id": "59e70e64",
   "metadata": {},
   "outputs": [],
   "source": [
    "import pandas as pd\n",
    "from datetime import datetime, timedelta\n",
    "import matplotlib.pyplot as plt"
   ]
  },
  {
   "cell_type": "markdown",
   "id": "a6863825",
   "metadata": {},
   "source": [
    "## Análisis exploratorio"
   ]
  },
  {
   "cell_type": "code",
   "execution_count": null,
   "id": "2faf7678",
   "metadata": {},
   "outputs": [],
   "source": [
    "df = pd.read_csv(\"./data/train.csv\")\n",
    "\n",
    "df['date'] = pd.to_datetime(df['date'])\n",
    "\n",
    "df = df.sort_values(['date', 'store', 'item']).reset_index(drop=True)"
   ]
  },
  {
   "cell_type": "code",
   "execution_count": 6,
   "id": "66b57c91",
   "metadata": {},
   "outputs": [
    {
     "name": "stdout",
     "output_type": "stream",
     "text": [
      "Dimensiones del dataframe: (913000, 4)\n",
      "\n",
      "Primeras filas:\n",
      "        date  store  item  sales\n",
      "0 2013-01-01      1     1     13\n",
      "1 2013-01-01      1     2     33\n",
      "2 2013-01-01      1     3     15\n",
      "3 2013-01-01      1     4     10\n",
      "4 2013-01-01      1     5     11\n"
     ]
    }
   ],
   "source": [
    "print(\"Dimensiones del dataframe:\", df.shape)\n",
    "print(\"\\nPrimeras filas:\")\n",
    "print(df.head())"
   ]
  },
  {
   "cell_type": "code",
   "execution_count": 8,
   "id": "4a6a8765",
   "metadata": {},
   "outputs": [
    {
     "name": "stdout",
     "output_type": "stream",
     "text": [
      "\n",
      "Informacion de Data:\n",
      "<class 'pandas.core.frame.DataFrame'>\n",
      "RangeIndex: 913000 entries, 0 to 912999\n",
      "Data columns (total 4 columns):\n",
      " #   Column  Non-Null Count   Dtype         \n",
      "---  ------  --------------   -----         \n",
      " 0   date    913000 non-null  datetime64[ns]\n",
      " 1   store   913000 non-null  int64         \n",
      " 2   item    913000 non-null  int64         \n",
      " 3   sales   913000 non-null  int64         \n",
      "dtypes: datetime64[ns](1), int64(3)\n",
      "memory usage: 27.9 MB\n",
      "None\n"
     ]
    }
   ],
   "source": [
    "print(\"\\nInformacion de Data:\")\n",
    "print(df.info())"
   ]
  },
  {
   "cell_type": "code",
   "execution_count": 9,
   "id": "5a103231",
   "metadata": {},
   "outputs": [
    {
     "name": "stdout",
     "output_type": "stream",
     "text": [
      "\n",
      "Estadisticas básicas:\n",
      "                                date          store           item  \\\n",
      "count                         913000  913000.000000  913000.000000   \n",
      "mean   2015-07-02 12:00:00.000000256       5.500000      25.500000   \n",
      "min              2013-01-01 00:00:00       1.000000       1.000000   \n",
      "25%              2014-04-02 00:00:00       3.000000      13.000000   \n",
      "50%              2015-07-02 12:00:00       5.500000      25.500000   \n",
      "75%              2016-10-01 00:00:00       8.000000      38.000000   \n",
      "max              2017-12-31 00:00:00      10.000000      50.000000   \n",
      "std                              NaN       2.872283      14.430878   \n",
      "\n",
      "               sales  \n",
      "count  913000.000000  \n",
      "mean       52.250287  \n",
      "min         0.000000  \n",
      "25%        30.000000  \n",
      "50%        47.000000  \n",
      "75%        70.000000  \n",
      "max       231.000000  \n",
      "std        28.801144  \n",
      "\n",
      "Rango de Fechas: 2013-01-01 00:00:00 to 2017-12-31 00:00:00\n",
      "\n",
      "Numero de tiendas: 10\n",
      "\n",
      "Numero de items: 50\n"
     ]
    }
   ],
   "source": [
    "print(\"\\nEstadisticas básicas:\")\n",
    "print(df.describe())\n",
    "print(\"\\nRango de Fechas:\", df['date'].min(), \"to\", df['date'].max())\n",
    "print(\"\\nNumero de tiendas:\", df['store'].nunique())\n",
    "print(\"\\nNumero de items:\", df['item'].nunique())"
   ]
  },
  {
   "cell_type": "code",
   "execution_count": 12,
   "id": "55fb0039",
   "metadata": {},
   "outputs": [
    {
     "name": "stdout",
     "output_type": "stream",
     "text": [
      "Valores nulos\n"
     ]
    },
    {
     "data": {
      "application/vnd.microsoft.datawrangler.viewer.v0+json": {
       "columns": [
        {
         "name": "index",
         "rawType": "object",
         "type": "string"
        },
        {
         "name": "0",
         "rawType": "int64",
         "type": "integer"
        }
       ],
       "ref": "bbd2ee2d-a67e-4ce4-af73-b6b4a75a4c56",
       "rows": [
        [
         "date",
         "0"
        ],
        [
         "store",
         "0"
        ],
        [
         "item",
         "0"
        ],
        [
         "sales",
         "0"
        ]
       ],
       "shape": {
        "columns": 1,
        "rows": 4
       }
      },
      "text/plain": [
       "date     0\n",
       "store    0\n",
       "item     0\n",
       "sales    0\n",
       "dtype: int64"
      ]
     },
     "execution_count": 12,
     "metadata": {},
     "output_type": "execute_result"
    }
   ],
   "source": [
    "print(\"Valores nulos\")\n",
    "df.isna().sum()"
   ]
  },
  {
   "cell_type": "code",
   "execution_count": 15,
   "id": "7ebb87a8",
   "metadata": {},
   "outputs": [
    {
     "name": "stdout",
     "output_type": "stream",
     "text": [
      "\n",
      "Filas duplicadas: 0\n"
     ]
    }
   ],
   "source": [
    "duplicates = df.duplicated(subset=['date', 'store', 'item'])\n",
    "print(f\"\\nFilas duplicadas: {duplicates.sum()}\")"
   ]
  },
  {
   "cell_type": "markdown",
   "id": "29b0895f",
   "metadata": {},
   "source": [
    "# Limpieza de datos"
   ]
  },
  {
   "cell_type": "code",
   "execution_count": 23,
   "id": "9380d809",
   "metadata": {},
   "outputs": [],
   "source": [
    "min_date = df['date'].min()\n",
    "max_date = df['date'].max()\n",
    "all_dates = pd.date_range(start=min_date, end=max_date, freq='D')\n",
    "\n",
    "stores = df['store'].unique()\n",
    "items = df['item'].unique()\n",
    "\n",
    "complete_index = pd.MultiIndex.from_product(\n",
    "    [all_dates, stores, items],\n",
    "    names=['date', 'store', 'item']\n",
    ")\n",
    "df_complete = pd.DataFrame(index=complete_index).reset_index()\n",
    "\n",
    "df_complete = df_complete.merge(df, on=['date', 'store', 'item'], how='left')"
   ]
  },
  {
   "cell_type": "code",
   "execution_count": 27,
   "id": "5ed891f2",
   "metadata": {},
   "outputs": [],
   "source": [
    "def plot_item_all_stores(df, item_id, max_stores=10, figsize=(15, 10)):\n",
    "    # Filter data for the item\n",
    "    item_data = df[df['item'] == item_id]\n",
    "    stores = sorted(item_data['store'].unique())[:max_stores]\n",
    "    \n",
    "    n_stores = len(stores)\n",
    "    n_cols = 2\n",
    "    n_rows = (n_stores + 1) // 2\n",
    "    \n",
    "    fig, axes = plt.subplots(n_rows, n_cols, figsize=figsize)\n",
    "    axes = axes.flatten() if n_stores > 1 else [axes]\n",
    "    \n",
    "    for idx, store_id in enumerate(stores):\n",
    "        data = item_data[item_data['store'] == store_id].sort_values('date')\n",
    "        \n",
    "        ax = axes[idx]\n",
    "        ax.plot(data['date'], data['sales'], linewidth=1, alpha=0.7)\n",
    "        \n",
    "        # Add 7-day moving average\n",
    "        rolling_mean = data['sales'].rolling(window=7, center=True).mean()\n",
    "        ax.plot(data['date'], rolling_mean, linewidth=2, color='red', alpha=0.7)\n",
    "        \n",
    "        ax.set_title(f'Store {store_id}', fontsize=11, fontweight='bold')\n",
    "        ax.set_xlabel('Date', fontsize=9)\n",
    "        ax.set_ylabel('Sales', fontsize=9)\n",
    "        ax.grid(True, alpha=0.3)\n",
    "        ax.tick_params(axis='x', rotation=45, labelsize=8)\n",
    "    \n",
    "    # Hide extra subplots\n",
    "    for idx in range(n_stores, len(axes)):\n",
    "        axes[idx].axis('off')\n",
    "    \n",
    "    fig.suptitle(f'All Stores - Item {item_id}', fontsize=16, fontweight='bold', y=1.00)\n",
    "    plt.tight_layout()\n",
    "    plt.show()"
   ]
  },
  {
   "cell_type": "markdown",
   "id": "57a77221",
   "metadata": {},
   "source": [
    "## Conjuntos de datos"
   ]
  },
  {
   "cell_type": "code",
   "execution_count": null,
   "id": "a488f2b6",
   "metadata": {},
   "outputs": [],
   "source": [
    "max_date = df['date'].max()\n",
    "\n",
    "# Define split points\n",
    "test_start = max_date - timedelta(days=90 - 1) # 90 days = 3 months\n",
    "val_start = test_start - timedelta(days=90) # 90 days for validation\n",
    "\n",
    "# Split the data\n",
    "train_df = df[df['date'] < val_start].copy() # rest of the months\n",
    "val_df = df[(df['date'] >= val_start) & (df['date'] < test_start)].copy()\n",
    "test_df = df[df['date'] >= test_start].copy()"
   ]
  }
 ],
 "metadata": {
  "kernelspec": {
   "display_name": ".venv",
   "language": "python",
   "name": "python3"
  },
  "language_info": {
   "codemirror_mode": {
    "name": "ipython",
    "version": 3
   },
   "file_extension": ".py",
   "mimetype": "text/x-python",
   "name": "python",
   "nbconvert_exporter": "python",
   "pygments_lexer": "ipython3",
   "version": "3.13.7"
  }
 },
 "nbformat": 4,
 "nbformat_minor": 5
}
